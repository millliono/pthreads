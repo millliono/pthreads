{
 "cells": [
  {
   "cell_type": "code",
   "execution_count": 7,
   "metadata": {},
   "outputs": [],
   "source": [
    "import pandas as pd\n",
    "import numpy as np\n",
    "import matplotlib.pyplot as plt\n",
    "import scipy.stats as stats\n"
   ]
  },
  {
   "cell_type": "code",
   "execution_count": 8,
   "metadata": {},
   "outputs": [
    {
     "ename": "SyntaxError",
     "evalue": "invalid syntax (603014772.py, line 2)",
     "output_type": "error",
     "traceback": [
      "\u001b[0;36m  Cell \u001b[0;32mIn[8], line 2\u001b[0;36m\u001b[0m\n\u001b[0;31m    df = pd.read_csv(data_file, sep=',',compression=)\u001b[0m\n\u001b[0m                                                    ^\u001b[0m\n\u001b[0;31mSyntaxError\u001b[0m\u001b[0;31m:\u001b[0m invalid syntax\n"
     ]
    }
   ],
   "source": [
    "\n",
    "data_file = 'dtAdd_1401268480138.csv'\n",
    "df = pd.read_csv(data_file, sep=',')\n"
   ]
  },
  {
   "cell_type": "code",
   "execution_count": 6,
   "metadata": {},
   "outputs": [
    {
     "data": {
      "text/html": [
       "<div>\n",
       "<style scoped>\n",
       "    .dataframe tbody tr th:only-of-type {\n",
       "        vertical-align: middle;\n",
       "    }\n",
       "\n",
       "    .dataframe tbody tr th {\n",
       "        vertical-align: top;\n",
       "    }\n",
       "\n",
       "    .dataframe thead th {\n",
       "        text-align: right;\n",
       "    }\n",
       "</style>\n",
       "<table border=\"1\" class=\"dataframe\">\n",
       "  <thead>\n",
       "    <tr style=\"text-align: right;\">\n",
       "      <th></th>\n",
       "      <th>1000132</th>\n",
       "      <th>1000524</th>\n",
       "      <th>999534</th>\n",
       "      <th>1000424</th>\n",
       "      <th>999958</th>\n",
       "      <th>1000001</th>\n",
       "      <th>999979</th>\n",
       "      <th>999954</th>\n",
       "      <th>1000032</th>\n",
       "      <th>1000021</th>\n",
       "      <th>...</th>\n",
       "      <th>1000254</th>\n",
       "      <th>999583</th>\n",
       "      <th>1002658</th>\n",
       "      <th>997609</th>\n",
       "      <th>999989</th>\n",
       "      <th>1000382</th>\n",
       "      <th>999604</th>\n",
       "      <th>999998</th>\n",
       "      <th>1000061</th>\n",
       "      <th>Unnamed: 20</th>\n",
       "    </tr>\n",
       "  </thead>\n",
       "  <tbody>\n",
       "  </tbody>\n",
       "</table>\n",
       "<p>0 rows × 21 columns</p>\n",
       "</div>"
      ],
      "text/plain": [
       "Empty DataFrame\n",
       "Columns: [1000132, 1000524, 999534, 1000424, 999958, 1000001, 999979, 999954, 1000032, 1000021, 999868, 1000254, 999583, 1002658, 997609, 999989, 1000382, 999604, 999998, 1000061, Unnamed: 20]\n",
       "Index: []\n",
       "\n",
       "[0 rows x 21 columns]"
      ]
     },
     "execution_count": 6,
     "metadata": {},
     "output_type": "execute_result"
    }
   ],
   "source": [
    "df.head()"
   ]
  },
  {
   "cell_type": "code",
   "execution_count": null,
   "metadata": {},
   "outputs": [],
   "source": [
    "\n",
    "values = df['value']\n",
    "\n",
    "# Step 2: Plot a histogram of the data\n",
    "plt.figure(figsize=(10, 6))\n",
    "plt.hist(values, bins=20, edgecolor='k', alpha=0.65, color='blue')\n",
    "plt.title('Histogram of Time Series Data')\n",
    "plt.xlabel('Value')\n",
    "plt.ylabel('Frequency')\n"
   ]
  },
  {
   "cell_type": "code",
   "execution_count": null,
   "metadata": {},
   "outputs": [],
   "source": [
    "\n",
    "# Step 3: Fit a probability distribution to the data (e.g., Gaussian distribution)\n",
    "mu, std = stats.norm.fit(values)\n"
   ]
  },
  {
   "cell_type": "code",
   "execution_count": null,
   "metadata": {},
   "outputs": [],
   "source": [
    "\n",
    "# Step 4: Plot the probability distribution\n",
    "xmin, xmax = plt.xlim()\n",
    "x = np.linspace(xmin, xmax, 100)\n",
    "p = stats.norm.pdf(x, mu, std)\n",
    "\n",
    "plt.plot(x, p, 'k', linewidth=2, color='red')\n",
    "plt.legend(['Fitted Gaussian Distribution'])\n",
    "plt.grid(True)\n",
    "\n",
    "# Step 5: Show the plot\n",
    "plt.show()\n"
   ]
  }
 ],
 "metadata": {
  "kernelspec": {
   "display_name": "cnn",
   "language": "python",
   "name": "python3"
  },
  "language_info": {
   "codemirror_mode": {
    "name": "ipython",
    "version": 3
   },
   "file_extension": ".py",
   "mimetype": "text/x-python",
   "name": "python",
   "nbconvert_exporter": "python",
   "pygments_lexer": "ipython3",
   "version": "3.11.4"
  },
  "orig_nbformat": 4
 },
 "nbformat": 4,
 "nbformat_minor": 2
}
